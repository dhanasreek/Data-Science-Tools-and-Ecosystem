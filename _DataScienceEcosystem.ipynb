{
 "cells": [
  {
   "cell_type": "markdown",
   "id": "3ebf42ff",
   "metadata": {},
   "source": [
    "# Data Science Tools and Ecosystem"
   ]
  },
  {
   "cell_type": "markdown",
   "id": "21fc005f",
   "metadata": {},
   "source": [
    "## Introduction"
   ]
  },
  {
   "cell_type": "raw",
   "id": "3c7ddb67",
   "metadata": {},
   "source": [
    "In this notebook, Data Science Tools and Ecosystem are summarized."
   ]
  },
  {
   "cell_type": "markdown",
   "id": "2cd9eb43",
   "metadata": {},
   "source": [
    "**Objectives**"
   ]
  },
  {
   "cell_type": "raw",
   "id": "97b0ba66",
   "metadata": {},
   "source": [
    "some of the key takeaways in the notebook:"
   ]
  },
  {
   "cell_type": "markdown",
   "id": "b1ed4996",
   "metadata": {},
   "source": [
    "<ul>\n",
    "  <li>Data science languages</li>\n",
    "  <li>Data science tools </li>\n",
    "    \n",
    "</ul>\n"
   ]
  },
  {
   "cell_type": "markdown",
   "id": "b1b3f509",
   "metadata": {},
   "source": [
    "## Data science languages"
   ]
  },
  {
   "cell_type": "raw",
   "id": "68e080ce",
   "metadata": {},
   "source": [
    "some popular languages of Data science:"
   ]
  },
  {
   "cell_type": "markdown",
   "id": "12a170c0",
   "metadata": {},
   "source": [
    "<ol>\n",
    "  \n",
    "  <li>R</li>\n",
    "  \n",
    "  <li>python</li>\n",
    "  <li>ruby</li>\n",
    "</ol>"
   ]
  },
  {
   "cell_type": "markdown",
   "id": "ae5c2d6d",
   "metadata": {},
   "source": [
    "## Data science libraries:"
   ]
  },
  {
   "cell_type": "raw",
   "id": "e7c73210",
   "metadata": {},
   "source": [
    "Some of the commonly used libraries used by Data Scientists include:"
   ]
  },
  {
   "cell_type": "markdown",
   "id": "423c0501",
   "metadata": {},
   "source": [
    "<ol>\n",
    "  \n",
    "  <li>numpy</li>\n",
    "  <li>pandas</li>\n",
    "  <li>sklearn</li>\n",
    "  <li>seaborn</li>\n",
    "  <li>keras</li>\n",
    "    \n",
    "</ol>"
   ]
  },
  {
   "cell_type": "markdown",
   "id": "50d31984",
   "metadata": {},
   "source": [
    "## Data Science tools"
   ]
  },
  {
   "cell_type": "raw",
   "id": "73248190",
   "metadata": {},
   "source": [
    "Data science uses various tools:"
   ]
  },
  {
   "cell_type": "markdown",
   "id": "d0878c26",
   "metadata": {},
   "source": [
    "<ol>\n",
    "  \n",
    "  <li>Jupyter</li>\n",
    "  <li>spyder</li>\n",
    "  <li>matlab</li>\n",
    "  <li>Tableau</li>\n",
    "  <li>keras</li>  \n",
    "  <li>PowerBI</li>\n",
    "  <li>SPSS</li>\n",
    "  <li>KNIME</li>\n",
    "    \n",
    "</ol>"
   ]
  },
  {
   "cell_type": "markdown",
   "id": "458b7625",
   "metadata": {},
   "source": [
    "## Introducing arithmetic expression examples"
   ]
  },
  {
   "cell_type": "markdown",
   "id": "669baf18",
   "metadata": {},
   "source": [
    "### Below are a few examples of evaluating arithmetic expressions in Python"
   ]
  },
  {
   "cell_type": "code",
   "execution_count": 7,
   "id": "0344c7d5",
   "metadata": {},
   "outputs": [
    {
     "data": {
      "text/plain": [
       "15"
      ]
     },
     "execution_count": 7,
     "metadata": {},
     "output_type": "execute_result"
    }
   ],
   "source": [
    "# to multiply\n",
    "3*5"
   ]
  },
  {
   "cell_type": "code",
   "execution_count": 6,
   "id": "ead46cd4",
   "metadata": {},
   "outputs": [
    {
     "data": {
      "text/plain": [
       "6"
      ]
     },
     "execution_count": 6,
     "metadata": {},
     "output_type": "execute_result"
    }
   ],
   "source": [
    "# to add integers\n",
    "2+4"
   ]
  },
  {
   "cell_type": "code",
   "execution_count": 9,
   "id": "5237af70",
   "metadata": {},
   "outputs": [
    {
     "name": "stdout",
     "output_type": "stream",
     "text": [
      "Enter time in minutes 200\n",
      "Hours= 3\n",
      "Minutes= 20\n"
     ]
    }
   ],
   "source": [
    "#code to convert minutes to hours\n",
    "#This will convert 200 minutes to hours by diving by 60\n",
    "min=int(input(\"Enter time in minutes \")) # enter 200\n",
    "h=min//60\n",
    "m=min%60\n",
    "print(\"Hours=\",h)\n",
    "print(\"Minutes=\",m)"
   ]
  },
  {
   "cell_type": "markdown",
   "id": "29808317",
   "metadata": {},
   "source": [
    "## Author"
   ]
  },
  {
   "cell_type": "raw",
   "id": "93666975",
   "metadata": {},
   "source": [
    "DR K DHANA SREE DEVI\n",
    
   ]
  },
  {
   "cell_type": "code",
   "execution_count": null,
   "id": "681dafaa",
   "metadata": {},
   "outputs": [],
   "source": []
  },
  {
   "cell_type": "code",
   "execution_count": null,
   "id": "a7f486b8",
   "metadata": {},
   "outputs": [],
   "source": []
  }
 ],
 "metadata": {
  "kernelspec": {
   "display_name": "Python 3 (ipykernel)",
   "language": "python",
   "name": "python3"
  },
  "language_info": {
   "codemirror_mode": {
    "name": "ipython",
    "version": 3
   },
   "file_extension": ".py",
   "mimetype": "text/x-python",
   "name": "python",
   "nbconvert_exporter": "python",
   "pygments_lexer": "ipython3",
   "version": "3.9.13"
  }
 },
 "nbformat": 4,
 "nbformat_minor": 5
}
